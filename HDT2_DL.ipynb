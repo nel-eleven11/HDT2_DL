{
  "nbformat": 4,
  "nbformat_minor": 0,
  "metadata": {
    "colab": {
      "provenance": [],
      "gpuType": "T4",
      "authorship_tag": "ABX9TyNI70glpE7GT8KaOmDVLR1m"
    },
    "kernelspec": {
      "name": "python3",
      "display_name": "Python 3"
    },
    "language_info": {
      "name": "python"
    },
    "accelerator": "GPU"
  },
  "cells": [
    {
      "cell_type": "markdown",
      "source": [
        "# Hoja de Trabajo 2\n",
        "# Deep Learning\n",
        "\n",
        "Autores:\n",
        "\n",
        "- Nelson García 22434\n",
        "- Joaquín Puente 22296"
      ],
      "metadata": {
        "id": "N-4vTJJJ8dJM"
      }
    },
    {
      "cell_type": "markdown",
      "source": [
        "## Ejercicio 1 - Experimentación Práctica"
      ],
      "metadata": {
        "id": "nB2O34_W8q4Y"
      }
    },
    {
      "cell_type": "markdown",
      "source": [
        "### Task 1: Preparación del conjunto de datos."
      ],
      "metadata": {
        "id": "kuQV_BAv8uN4"
      }
    },
    {
      "cell_type": "code",
      "execution_count": 1,
      "metadata": {
        "id": "uyNxeDIQ8bqV"
      },
      "outputs": [],
      "source": [
        "import numpy as np\n",
        "import torch\n",
        "from torch.utils.data import TensorDataset, DataLoader\n",
        "from sklearn.datasets import load_iris\n",
        "from sklearn.model_selection import train_test_split\n",
        "from sklearn.preprocessing import StandardScaler"
      ]
    },
    {
      "cell_type": "code",
      "source": [
        "# Reproducibilidad\n",
        "RANDOM_STATE = 42\n",
        "np.random.seed(RANDOM_STATE)\n",
        "torch.manual_seed(RANDOM_STATE)"
      ],
      "metadata": {
        "colab": {
          "base_uri": "https://localhost:8080/"
        },
        "id": "8A4e02q-_SFP",
        "outputId": "e102208e-dd52-4d40-c489-bc3aaffb85b8"
      },
      "execution_count": 2,
      "outputs": [
        {
          "output_type": "execute_result",
          "data": {
            "text/plain": [
              "<torch._C.Generator at 0x7ae72a74bcd0>"
            ]
          },
          "metadata": {},
          "execution_count": 2
        }
      ]
    },
    {
      "cell_type": "code",
      "source": [
        "# Dispositivo\n",
        "device = torch.device(\"cuda\" if torch.cuda.is_available() else \"cpu\")\n",
        "print(\"Device:\", device)"
      ],
      "metadata": {
        "colab": {
          "base_uri": "https://localhost:8080/"
        },
        "id": "EoDyT6He_YbO",
        "outputId": "95b43790-dfbb-4917-8d2c-7924c61e5ca2"
      },
      "execution_count": 3,
      "outputs": [
        {
          "output_type": "stream",
          "name": "stdout",
          "text": [
            "Device: cuda\n"
          ]
        }
      ]
    },
    {
      "cell_type": "code",
      "source": [
        "# 1) Cargar dataset Iris\n",
        "iris = load_iris()\n",
        "X = iris.data.astype(np.float32)     # sepal length/width, petal length/width\n",
        "y = iris.target.astype(np.int64)     # 3 clases: setosa, versicolor, virginica\n",
        "class_names = iris.target_names"
      ],
      "metadata": {
        "id": "cnl2RJJT_Y6g"
      },
      "execution_count": 4,
      "outputs": []
    },
    {
      "cell_type": "code",
      "source": [
        "# 2) Train/Validation split estratificado (80/20)\n",
        "X_train, X_val, y_train, y_val = train_test_split(\n",
        "    X, y, test_size=0.2, stratify=y, random_state=RANDOM_STATE\n",
        ")"
      ],
      "metadata": {
        "id": "pqnwhpQK_Zg2"
      },
      "execution_count": 5,
      "outputs": []
    },
    {
      "cell_type": "code",
      "source": [
        "# 3) Normalización (fit SOLO en train, aplicar en val)\n",
        "scaler = StandardScaler()\n",
        "X_train = scaler.fit_transform(X_train).astype(np.float32)\n",
        "X_val   = scaler.transform(X_val).astype(np.float32)\n"
      ],
      "metadata": {
        "id": "tWL3dEfUAvGD"
      },
      "execution_count": 6,
      "outputs": []
    },
    {
      "cell_type": "code",
      "source": [
        "# 4) Convertir a tensores\n",
        "X_train_t = torch.from_numpy(X_train)\n",
        "y_train_t = torch.from_numpy(y_train)\n",
        "X_val_t   = torch.from_numpy(X_val)\n",
        "y_val_t   = torch.from_numpy(y_val)"
      ],
      "metadata": {
        "id": "0QR17h_3AwFF"
      },
      "execution_count": 7,
      "outputs": []
    },
    {
      "cell_type": "code",
      "source": [
        "# 5) Crear TensorDatasets y DataLoaders\n",
        "batch_size = 16\n",
        "train_ds = TensorDataset(X_train_t, y_train_t)\n",
        "val_ds   = TensorDataset(X_val_t, y_val_t)\n",
        "\n",
        "train_loader = DataLoader(train_ds, batch_size=batch_size, shuffle=True)\n",
        "val_loader   = DataLoader(val_ds, batch_size=batch_size, shuffle=False)"
      ],
      "metadata": {
        "id": "LglxDzA-AwV5"
      },
      "execution_count": 8,
      "outputs": []
    },
    {
      "cell_type": "code",
      "source": [
        "# 6) Info útil para el modelado posterior\n",
        "input_dim  = X_train_t.shape[1]\n",
        "num_classes = len(np.unique(y))\n",
        "\n",
        "print(f\"Train size: {len(train_ds)} | Val size: {len(val_ds)}\")\n",
        "print(f\"Input dim: {input_dim} | Num classes: {num_classes}\")\n",
        "print(\"Clases:\", class_names)"
      ],
      "metadata": {
        "colab": {
          "base_uri": "https://localhost:8080/"
        },
        "id": "gIIS033nAws9",
        "outputId": "300c4ac7-88b8-4f7c-918d-b37160e7d15d"
      },
      "execution_count": 9,
      "outputs": [
        {
          "output_type": "stream",
          "name": "stdout",
          "text": [
            "Train size: 120 | Val size: 30\n",
            "Input dim: 4 | Num classes: 3\n",
            "Clases: ['setosa' 'versicolor' 'virginica']\n"
          ]
        }
      ]
    },
    {
      "cell_type": "markdown",
      "source": [
        "## Task 2 - Arquitectura modelo"
      ],
      "metadata": {
        "id": "jo-ZOMWoBV6Q"
      }
    },
    {
      "cell_type": "code",
      "source": [],
      "metadata": {
        "id": "U6RuXCihAw_d"
      },
      "execution_count": null,
      "outputs": []
    }
  ]
}